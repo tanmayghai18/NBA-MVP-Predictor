{
 "cells": [
  {
   "cell_type": "code",
   "execution_count": 1,
   "metadata": {},
   "outputs": [],
   "source": [
    "import sys\n",
    "import csv\n",
    "import operator\n",
    "import pandas as pd\n",
    "import warnings\n",
    "import numpy as np\n",
    "import sklearn\n",
    "from sklearn import linear_model\n",
    "from sklearn import svm\n",
    "from sklearn import preprocessing\n",
    "from sklearn import utils\n",
    "from sklearn.neighbors import KNeighborsRegressor\n",
    "from sklearn import tree\n",
    "from sklearn.feature_selection import mutual_info_regression\n",
    "from sklearn.ensemble import RandomForestRegressor\n",
    "from sklearn.ensemble import GradientBoostingRegressor\n",
    "np.set_printoptions(threshold=sys.maxsize)\n",
    "warnings.filterwarnings('ignore')"
   ]
  },
  {
   "cell_type": "markdown",
   "metadata": {},
   "source": [
    "# Data Load and Clean-Up"
   ]
  },
  {
   "cell_type": "code",
   "execution_count": 2,
   "metadata": {},
   "outputs": [],
   "source": [
    "#Reading in normal player stats for yrs 2000-2019\n",
    "normal_stats_file_name = 'data/normal_stats/normal_stats_{}.csv'\n",
    "normal_stats = []\n",
    "for i in range(19, 0, -1):\n",
    "    normal_stats.append(pd.read_csv(normal_stats_file_name.format(i)))\n",
    "\n",
    "#Reading in advanced player stats for yrs 2014-2019\n",
    "adv_stats_file_name = 'data/advanced_stats/adv_stats_{}.csv'\n",
    "adv_stats = []\n",
    "for i in range(19, 0, -1):\n",
    "    adv_stats.append(pd.read_csv(adv_stats_file_name.format(i)))\n",
    "\n",
    "#Reading in team ratings for yrs 2014-2019\n",
    "team_ratings_file_name = 'data/team_ratings/teams_{}.csv'\n",
    "team_ratings = []\n",
    "for i in range(19, 0, -1):\n",
    "    team_ratings.append(pd.read_csv(team_ratings_file_name.format(i)))\n",
    "                        \n",
    "#Reading in mvp voting results for yrs 2014-2018\n",
    "mvp_votes_file_name = 'data/mvp_votes/mvp_{}.csv'\n",
    "mvp_votes = ['THIS IS WHAT WE ARE GONNA PREDICT!']\n",
    "for i in range(18, 0, -1):\n",
    "    mvp_votes.append(pd.read_csv(mvp_votes_file_name.format(i)))"
   ]
  },
  {
   "cell_type": "code",
   "execution_count": 3,
   "metadata": {},
   "outputs": [],
   "source": [
    "#helper method to clean player names for data from 'Basketball-Reference'\n",
    "def clean_player_names(str):\n",
    "    index_of_slash = str.find('\\\\')\n",
    "    str = str[:index_of_slash]\n",
    "    return str.replace('*', '')\n",
    "\n",
    "def clean_data(normal_stats, adv_stats, team_ratings, mvp_votes):\n",
    "    player_vals = []\n",
    "    team_vals = []\n",
    "    mvp_vals = []\n",
    "    for yr in range(19):\n",
    "        norm = normal_stats[yr].drop_duplicates(subset='Player', keep='first')\n",
    "        adv = adv_stats[yr].drop_duplicates(subset='Player', keep='first')\n",
    "        merge = norm.merge(adv, left_on=\"Player\", right_on='Player')\n",
    "        merge = merge.drop(['Rk_x', 'Rk_y', 'Pos_y', 'Age_y', 'Tm_y', 'G_y', 'MP_y', 'Unnamed: 24', 'Unnamed: 19'], axis=1)\n",
    "        merge = merge.rename(index=str, columns={\"Pos_x\": \"Pos\", \"Age_x\": \"Age\", \"Tm_x\": \"Tm\", \"G_x\": \"G\", \"MP_x\": \"MP\"})\n",
    "        merge['Player'] = merge['Player'].apply(lambda str: clean_player_names(str))\n",
    "        added_col_players = np.full((merge.count()[0]), (19 - yr))\n",
    "        merge['Year'] = (added_col_players)\n",
    "        \n",
    "        teams_updated = team_ratings[yr]\n",
    "        added_col_teams = np.full(len(teams_updated), (19 - yr))\n",
    "        teams_updated['Year'] = (added_col_teams)\n",
    "        player_vals += [merge]\n",
    "        team_vals += [teams_updated]\n",
    "        if (not isinstance(mvp_votes[yr], str)):\n",
    "            mvp_updated = mvp_votes[yr]\n",
    "            added_col_mvps = np.full(len(mvp_updated), (19 - yr))\n",
    "            mvp_updated['Year'] = (added_col_mvps)\n",
    "            mvp_updated = mvp_updated[['Player', 'First', 'Share', 'Year']]\n",
    "            mvp_updated['Player'] = mvp_updated['Player'].apply(lambda str: clean_player_names(str))\n",
    "            mvp_vals += [mvp_updated]\n",
    "    \n",
    "        \n",
    "    player_data = pd.concat(player_vals)\n",
    "    team_data = pd.concat(team_vals)\n",
    "    mvp_data = pd.concat(mvp_vals)\n",
    "    player_data = pd.merge(player_data, mvp_data,  how='left', left_on=['Player','Year'], right_on = ['Player','Year'])\n",
    "    player_data = player_data.fillna(0)\n",
    "    player_data = player_data.rename(index=str, columns={\"First\": \"1st Place MVP Votes\", \"Share\": \"MVP Score\"})\n",
    "    player_data = player_data[player_data['Player'] != 'Tony Mitchell']\n",
    "    player_data = player_data[player_data['Player'] != 'Chris Johnson']\n",
    "    player_data = player_data[player_data['Player'] != 'Marcus Williams']\n",
    "    player_data = player_data[player_data['Player'] != 'Trevon Duval']\n",
    "    player_data = player_data.assign(id=(player_data['Player']).astype('category').cat.codes)\n",
    "    player_data = player_data.set_index('Year')\n",
    "    team_data = team_data.set_index('Year')\n",
    "    return player_data, team_data\n",
    "    \n",
    "player_data, team_data = clean_data(normal_stats, adv_stats, team_ratings, mvp_votes)"
   ]
  },
  {
   "cell_type": "markdown",
   "metadata": {},
   "source": [
    "# Getting Accustomed to the Data"
   ]
  },
  {
   "cell_type": "markdown",
   "metadata": {},
   "source": [
    "After data clean up, we now have player and team data from the 2000-2001 NBA season to this past season(18-19). The data is formatted as such: starting with year 19 and down, it contains all players who played in each season. Along with each player's counting stats and advanced stats for each season, there are two columns that will be particularly useful for our analysis: 1st Place MVP Votes representing the number of first place votes they received in that season and MVP Score which represents the share of MVP votes they received out of all that were given. Thus, the MVP in a particular year is simply the player with the MAX('MVP Score'). We can check this intuition below:"
   ]
  },
  {
   "cell_type": "code",
   "execution_count": 4,
   "metadata": {},
   "outputs": [
    {
     "data": {
      "text/html": [
       "<div>\n",
       "<style>\n",
       "    .dataframe thead tr:only-child th {\n",
       "        text-align: right;\n",
       "    }\n",
       "\n",
       "    .dataframe thead th {\n",
       "        text-align: left;\n",
       "    }\n",
       "\n",
       "    .dataframe tbody tr th {\n",
       "        vertical-align: top;\n",
       "    }\n",
       "</style>\n",
       "<table border=\"1\" class=\"dataframe\">\n",
       "  <thead>\n",
       "    <tr style=\"text-align: right;\">\n",
       "      <th></th>\n",
       "      <th>Player</th>\n",
       "      <th>Pos</th>\n",
       "      <th>Age</th>\n",
       "      <th>Tm</th>\n",
       "      <th>G</th>\n",
       "      <th>GS</th>\n",
       "      <th>MP</th>\n",
       "      <th>FG</th>\n",
       "      <th>FGA</th>\n",
       "      <th>FG%</th>\n",
       "      <th>...</th>\n",
       "      <th>DWS</th>\n",
       "      <th>WS</th>\n",
       "      <th>WS/48</th>\n",
       "      <th>OBPM</th>\n",
       "      <th>DBPM</th>\n",
       "      <th>BPM</th>\n",
       "      <th>VORP</th>\n",
       "      <th>1st Place MVP Votes</th>\n",
       "      <th>MVP Score</th>\n",
       "      <th>id</th>\n",
       "    </tr>\n",
       "    <tr>\n",
       "      <th>Year</th>\n",
       "      <th></th>\n",
       "      <th></th>\n",
       "      <th></th>\n",
       "      <th></th>\n",
       "      <th></th>\n",
       "      <th></th>\n",
       "      <th></th>\n",
       "      <th></th>\n",
       "      <th></th>\n",
       "      <th></th>\n",
       "      <th></th>\n",
       "      <th></th>\n",
       "      <th></th>\n",
       "      <th></th>\n",
       "      <th></th>\n",
       "      <th></th>\n",
       "      <th></th>\n",
       "      <th></th>\n",
       "      <th></th>\n",
       "      <th></th>\n",
       "      <th></th>\n",
       "    </tr>\n",
       "  </thead>\n",
       "  <tbody>\n",
       "    <tr>\n",
       "      <th>17</th>\n",
       "      <td>Russell Westbrook</td>\n",
       "      <td>PG</td>\n",
       "      <td>28</td>\n",
       "      <td>OKC</td>\n",
       "      <td>81</td>\n",
       "      <td>81</td>\n",
       "      <td>34.6</td>\n",
       "      <td>10.2</td>\n",
       "      <td>24.0</td>\n",
       "      <td>0.425</td>\n",
       "      <td>...</td>\n",
       "      <td>4.6</td>\n",
       "      <td>13.1</td>\n",
       "      <td>0.224</td>\n",
       "      <td>10.9</td>\n",
       "      <td>4.7</td>\n",
       "      <td>15.6</td>\n",
       "      <td>12.4</td>\n",
       "      <td>69.0</td>\n",
       "      <td>0.879</td>\n",
       "      <td>1508</td>\n",
       "    </tr>\n",
       "  </tbody>\n",
       "</table>\n",
       "<p>1 rows × 52 columns</p>\n",
       "</div>"
      ],
      "text/plain": [
       "                 Player Pos  Age   Tm   G  GS    MP    FG   FGA    FG%  ...   \\\n",
       "Year                                                                    ...    \n",
       "17    Russell Westbrook  PG   28  OKC  81  81  34.6  10.2  24.0  0.425  ...    \n",
       "\n",
       "      DWS    WS  WS/48  OBPM  DBPM   BPM  VORP  1st Place MVP Votes  \\\n",
       "Year                                                                  \n",
       "17    4.6  13.1  0.224  10.9   4.7  15.6  12.4                 69.0   \n",
       "\n",
       "      MVP Score    id  \n",
       "Year                   \n",
       "17        0.879  1508  \n",
       "\n",
       "[1 rows x 52 columns]"
      ]
     },
     "execution_count": 4,
     "metadata": {},
     "output_type": "execute_result"
    }
   ],
   "source": [
    "seventeen_season = player_data[player_data.index == 17]\n",
    "mvp_17_season = seventeen_season[seventeen_season['MVP Score'] == max(seventeen_season['MVP Score'])]\n",
    "mvp_17_season"
   ]
  },
  {
   "cell_type": "markdown",
   "metadata": {},
   "source": [
    "Russell Westbrook was indeed the MVP of the 2016-2017 NBA Season, we now have some useful data where we can extract useful results! Let's play around a bit more to get accustomed to what we have. Below, we can see the results of all seasons (19-14) of my favorite player: Kevin Durant."
   ]
  },
  {
   "cell_type": "code",
   "execution_count": 5,
   "metadata": {},
   "outputs": [
    {
     "data": {
      "text/html": [
       "<div>\n",
       "<style>\n",
       "    .dataframe thead tr:only-child th {\n",
       "        text-align: right;\n",
       "    }\n",
       "\n",
       "    .dataframe thead th {\n",
       "        text-align: left;\n",
       "    }\n",
       "\n",
       "    .dataframe tbody tr th {\n",
       "        vertical-align: top;\n",
       "    }\n",
       "</style>\n",
       "<table border=\"1\" class=\"dataframe\">\n",
       "  <thead>\n",
       "    <tr style=\"text-align: right;\">\n",
       "      <th></th>\n",
       "      <th>Player</th>\n",
       "      <th>Pos</th>\n",
       "      <th>Age</th>\n",
       "      <th>Tm</th>\n",
       "      <th>G</th>\n",
       "      <th>GS</th>\n",
       "      <th>MP</th>\n",
       "      <th>FG</th>\n",
       "      <th>FGA</th>\n",
       "      <th>FG%</th>\n",
       "      <th>...</th>\n",
       "      <th>DWS</th>\n",
       "      <th>WS</th>\n",
       "      <th>WS/48</th>\n",
       "      <th>OBPM</th>\n",
       "      <th>DBPM</th>\n",
       "      <th>BPM</th>\n",
       "      <th>VORP</th>\n",
       "      <th>1st Place MVP Votes</th>\n",
       "      <th>MVP Score</th>\n",
       "      <th>id</th>\n",
       "    </tr>\n",
       "    <tr>\n",
       "      <th>Year</th>\n",
       "      <th></th>\n",
       "      <th></th>\n",
       "      <th></th>\n",
       "      <th></th>\n",
       "      <th></th>\n",
       "      <th></th>\n",
       "      <th></th>\n",
       "      <th></th>\n",
       "      <th></th>\n",
       "      <th></th>\n",
       "      <th></th>\n",
       "      <th></th>\n",
       "      <th></th>\n",
       "      <th></th>\n",
       "      <th></th>\n",
       "      <th></th>\n",
       "      <th></th>\n",
       "      <th></th>\n",
       "      <th></th>\n",
       "      <th></th>\n",
       "      <th></th>\n",
       "    </tr>\n",
       "  </thead>\n",
       "  <tbody>\n",
       "    <tr>\n",
       "      <th>19</th>\n",
       "      <td>Kevin Durant</td>\n",
       "      <td>PF</td>\n",
       "      <td>30</td>\n",
       "      <td>GSW</td>\n",
       "      <td>78</td>\n",
       "      <td>78</td>\n",
       "      <td>34.6</td>\n",
       "      <td>9.2</td>\n",
       "      <td>17.7</td>\n",
       "      <td>0.521</td>\n",
       "      <td>...</td>\n",
       "      <td>2.9</td>\n",
       "      <td>11.5</td>\n",
       "      <td>0.204</td>\n",
       "      <td>4.2</td>\n",
       "      <td>0.1</td>\n",
       "      <td>4.3</td>\n",
       "      <td>4.3</td>\n",
       "      <td>0.0</td>\n",
       "      <td>0.000</td>\n",
       "      <td>1023</td>\n",
       "    </tr>\n",
       "    <tr>\n",
       "      <th>18</th>\n",
       "      <td>Kevin Durant</td>\n",
       "      <td>PF</td>\n",
       "      <td>29</td>\n",
       "      <td>GSW</td>\n",
       "      <td>68</td>\n",
       "      <td>68</td>\n",
       "      <td>34.2</td>\n",
       "      <td>9.3</td>\n",
       "      <td>18.0</td>\n",
       "      <td>0.516</td>\n",
       "      <td>...</td>\n",
       "      <td>2.9</td>\n",
       "      <td>10.4</td>\n",
       "      <td>0.215</td>\n",
       "      <td>5.0</td>\n",
       "      <td>0.7</td>\n",
       "      <td>5.6</td>\n",
       "      <td>4.5</td>\n",
       "      <td>0.0</td>\n",
       "      <td>0.065</td>\n",
       "      <td>1023</td>\n",
       "    </tr>\n",
       "    <tr>\n",
       "      <th>17</th>\n",
       "      <td>Kevin Durant</td>\n",
       "      <td>PF</td>\n",
       "      <td>28</td>\n",
       "      <td>GSW</td>\n",
       "      <td>62</td>\n",
       "      <td>62</td>\n",
       "      <td>33.4</td>\n",
       "      <td>8.9</td>\n",
       "      <td>16.5</td>\n",
       "      <td>0.537</td>\n",
       "      <td>...</td>\n",
       "      <td>4.0</td>\n",
       "      <td>12.0</td>\n",
       "      <td>0.278</td>\n",
       "      <td>5.4</td>\n",
       "      <td>2.6</td>\n",
       "      <td>8.0</td>\n",
       "      <td>5.2</td>\n",
       "      <td>0.0</td>\n",
       "      <td>0.002</td>\n",
       "      <td>1023</td>\n",
       "    </tr>\n",
       "    <tr>\n",
       "      <th>16</th>\n",
       "      <td>Kevin Durant</td>\n",
       "      <td>SF</td>\n",
       "      <td>27</td>\n",
       "      <td>OKC</td>\n",
       "      <td>72</td>\n",
       "      <td>72</td>\n",
       "      <td>35.8</td>\n",
       "      <td>9.7</td>\n",
       "      <td>19.2</td>\n",
       "      <td>0.505</td>\n",
       "      <td>...</td>\n",
       "      <td>3.5</td>\n",
       "      <td>14.5</td>\n",
       "      <td>0.270</td>\n",
       "      <td>7.0</td>\n",
       "      <td>0.9</td>\n",
       "      <td>7.9</td>\n",
       "      <td>6.4</td>\n",
       "      <td>0.0</td>\n",
       "      <td>0.112</td>\n",
       "      <td>1023</td>\n",
       "    </tr>\n",
       "    <tr>\n",
       "      <th>15</th>\n",
       "      <td>Kevin Durant</td>\n",
       "      <td>SF</td>\n",
       "      <td>26</td>\n",
       "      <td>OKC</td>\n",
       "      <td>27</td>\n",
       "      <td>27</td>\n",
       "      <td>33.8</td>\n",
       "      <td>8.8</td>\n",
       "      <td>17.3</td>\n",
       "      <td>0.510</td>\n",
       "      <td>...</td>\n",
       "      <td>1.0</td>\n",
       "      <td>4.8</td>\n",
       "      <td>0.252</td>\n",
       "      <td>6.3</td>\n",
       "      <td>-0.2</td>\n",
       "      <td>6.1</td>\n",
       "      <td>1.9</td>\n",
       "      <td>0.0</td>\n",
       "      <td>0.000</td>\n",
       "      <td>1023</td>\n",
       "    </tr>\n",
       "    <tr>\n",
       "      <th>14</th>\n",
       "      <td>Kevin Durant</td>\n",
       "      <td>SF</td>\n",
       "      <td>25</td>\n",
       "      <td>OKC</td>\n",
       "      <td>81</td>\n",
       "      <td>81</td>\n",
       "      <td>38.5</td>\n",
       "      <td>10.5</td>\n",
       "      <td>20.8</td>\n",
       "      <td>0.503</td>\n",
       "      <td>...</td>\n",
       "      <td>4.4</td>\n",
       "      <td>19.2</td>\n",
       "      <td>0.295</td>\n",
       "      <td>8.4</td>\n",
       "      <td>0.4</td>\n",
       "      <td>8.8</td>\n",
       "      <td>8.5</td>\n",
       "      <td>119.0</td>\n",
       "      <td>0.986</td>\n",
       "      <td>1023</td>\n",
       "    </tr>\n",
       "    <tr>\n",
       "      <th>13</th>\n",
       "      <td>Kevin Durant</td>\n",
       "      <td>SF</td>\n",
       "      <td>24</td>\n",
       "      <td>OKC</td>\n",
       "      <td>81</td>\n",
       "      <td>81</td>\n",
       "      <td>38.5</td>\n",
       "      <td>9.0</td>\n",
       "      <td>17.7</td>\n",
       "      <td>0.510</td>\n",
       "      <td>...</td>\n",
       "      <td>5.3</td>\n",
       "      <td>18.9</td>\n",
       "      <td>0.291</td>\n",
       "      <td>6.2</td>\n",
       "      <td>1.4</td>\n",
       "      <td>7.7</td>\n",
       "      <td>7.6</td>\n",
       "      <td>0.0</td>\n",
       "      <td>0.632</td>\n",
       "      <td>1023</td>\n",
       "    </tr>\n",
       "    <tr>\n",
       "      <th>12</th>\n",
       "      <td>Kevin Durant</td>\n",
       "      <td>SF</td>\n",
       "      <td>23</td>\n",
       "      <td>OKC</td>\n",
       "      <td>66</td>\n",
       "      <td>66</td>\n",
       "      <td>38.6</td>\n",
       "      <td>9.7</td>\n",
       "      <td>19.7</td>\n",
       "      <td>0.496</td>\n",
       "      <td>...</td>\n",
       "      <td>3.7</td>\n",
       "      <td>12.2</td>\n",
       "      <td>0.230</td>\n",
       "      <td>4.7</td>\n",
       "      <td>0.5</td>\n",
       "      <td>5.2</td>\n",
       "      <td>4.6</td>\n",
       "      <td>24.0</td>\n",
       "      <td>0.735</td>\n",
       "      <td>1023</td>\n",
       "    </tr>\n",
       "    <tr>\n",
       "      <th>11</th>\n",
       "      <td>Kevin Durant</td>\n",
       "      <td>SF</td>\n",
       "      <td>22</td>\n",
       "      <td>OKC</td>\n",
       "      <td>78</td>\n",
       "      <td>78</td>\n",
       "      <td>38.9</td>\n",
       "      <td>9.1</td>\n",
       "      <td>19.7</td>\n",
       "      <td>0.462</td>\n",
       "      <td>...</td>\n",
       "      <td>3.3</td>\n",
       "      <td>12.0</td>\n",
       "      <td>0.189</td>\n",
       "      <td>3.7</td>\n",
       "      <td>-0.8</td>\n",
       "      <td>2.9</td>\n",
       "      <td>3.7</td>\n",
       "      <td>0.0</td>\n",
       "      <td>0.157</td>\n",
       "      <td>1023</td>\n",
       "    </tr>\n",
       "    <tr>\n",
       "      <th>10</th>\n",
       "      <td>Kevin Durant</td>\n",
       "      <td>SF</td>\n",
       "      <td>21</td>\n",
       "      <td>OKC</td>\n",
       "      <td>82</td>\n",
       "      <td>82</td>\n",
       "      <td>39.5</td>\n",
       "      <td>9.7</td>\n",
       "      <td>20.3</td>\n",
       "      <td>0.476</td>\n",
       "      <td>...</td>\n",
       "      <td>5.0</td>\n",
       "      <td>16.1</td>\n",
       "      <td>0.238</td>\n",
       "      <td>4.9</td>\n",
       "      <td>0.2</td>\n",
       "      <td>5.1</td>\n",
       "      <td>5.8</td>\n",
       "      <td>4.0</td>\n",
       "      <td>0.495</td>\n",
       "      <td>1023</td>\n",
       "    </tr>\n",
       "    <tr>\n",
       "      <th>9</th>\n",
       "      <td>Kevin Durant</td>\n",
       "      <td>SF</td>\n",
       "      <td>20</td>\n",
       "      <td>OKC</td>\n",
       "      <td>74</td>\n",
       "      <td>74</td>\n",
       "      <td>39.0</td>\n",
       "      <td>8.9</td>\n",
       "      <td>18.8</td>\n",
       "      <td>0.476</td>\n",
       "      <td>...</td>\n",
       "      <td>2.7</td>\n",
       "      <td>7.9</td>\n",
       "      <td>0.132</td>\n",
       "      <td>2.2</td>\n",
       "      <td>-0.5</td>\n",
       "      <td>1.8</td>\n",
       "      <td>2.8</td>\n",
       "      <td>0.0</td>\n",
       "      <td>0.000</td>\n",
       "      <td>1023</td>\n",
       "    </tr>\n",
       "    <tr>\n",
       "      <th>8</th>\n",
       "      <td>Kevin Durant</td>\n",
       "      <td>SG</td>\n",
       "      <td>19</td>\n",
       "      <td>SEA</td>\n",
       "      <td>80</td>\n",
       "      <td>80</td>\n",
       "      <td>34.6</td>\n",
       "      <td>7.3</td>\n",
       "      <td>17.1</td>\n",
       "      <td>0.430</td>\n",
       "      <td>...</td>\n",
       "      <td>1.9</td>\n",
       "      <td>2.3</td>\n",
       "      <td>0.040</td>\n",
       "      <td>-0.6</td>\n",
       "      <td>-0.7</td>\n",
       "      <td>-1.4</td>\n",
       "      <td>0.4</td>\n",
       "      <td>0.0</td>\n",
       "      <td>0.000</td>\n",
       "      <td>1023</td>\n",
       "    </tr>\n",
       "  </tbody>\n",
       "</table>\n",
       "<p>12 rows × 52 columns</p>\n",
       "</div>"
      ],
      "text/plain": [
       "            Player Pos  Age   Tm   G  GS    MP    FG   FGA    FG%  ...   DWS  \\\n",
       "Year                                                               ...         \n",
       "19    Kevin Durant  PF   30  GSW  78  78  34.6   9.2  17.7  0.521  ...   2.9   \n",
       "18    Kevin Durant  PF   29  GSW  68  68  34.2   9.3  18.0  0.516  ...   2.9   \n",
       "17    Kevin Durant  PF   28  GSW  62  62  33.4   8.9  16.5  0.537  ...   4.0   \n",
       "16    Kevin Durant  SF   27  OKC  72  72  35.8   9.7  19.2  0.505  ...   3.5   \n",
       "15    Kevin Durant  SF   26  OKC  27  27  33.8   8.8  17.3  0.510  ...   1.0   \n",
       "14    Kevin Durant  SF   25  OKC  81  81  38.5  10.5  20.8  0.503  ...   4.4   \n",
       "13    Kevin Durant  SF   24  OKC  81  81  38.5   9.0  17.7  0.510  ...   5.3   \n",
       "12    Kevin Durant  SF   23  OKC  66  66  38.6   9.7  19.7  0.496  ...   3.7   \n",
       "11    Kevin Durant  SF   22  OKC  78  78  38.9   9.1  19.7  0.462  ...   3.3   \n",
       "10    Kevin Durant  SF   21  OKC  82  82  39.5   9.7  20.3  0.476  ...   5.0   \n",
       "9     Kevin Durant  SF   20  OKC  74  74  39.0   8.9  18.8  0.476  ...   2.7   \n",
       "8     Kevin Durant  SG   19  SEA  80  80  34.6   7.3  17.1  0.430  ...   1.9   \n",
       "\n",
       "        WS  WS/48  OBPM  DBPM  BPM  VORP  1st Place MVP Votes  MVP Score    id  \n",
       "Year                                                                            \n",
       "19    11.5  0.204   4.2   0.1  4.3   4.3                  0.0      0.000  1023  \n",
       "18    10.4  0.215   5.0   0.7  5.6   4.5                  0.0      0.065  1023  \n",
       "17    12.0  0.278   5.4   2.6  8.0   5.2                  0.0      0.002  1023  \n",
       "16    14.5  0.270   7.0   0.9  7.9   6.4                  0.0      0.112  1023  \n",
       "15     4.8  0.252   6.3  -0.2  6.1   1.9                  0.0      0.000  1023  \n",
       "14    19.2  0.295   8.4   0.4  8.8   8.5                119.0      0.986  1023  \n",
       "13    18.9  0.291   6.2   1.4  7.7   7.6                  0.0      0.632  1023  \n",
       "12    12.2  0.230   4.7   0.5  5.2   4.6                 24.0      0.735  1023  \n",
       "11    12.0  0.189   3.7  -0.8  2.9   3.7                  0.0      0.157  1023  \n",
       "10    16.1  0.238   4.9   0.2  5.1   5.8                  4.0      0.495  1023  \n",
       "9      7.9  0.132   2.2  -0.5  1.8   2.8                  0.0      0.000  1023  \n",
       "8      2.3  0.040  -0.6  -0.7 -1.4   0.4                  0.0      0.000  1023  \n",
       "\n",
       "[12 rows x 52 columns]"
      ]
     },
     "execution_count": 5,
     "metadata": {},
     "output_type": "execute_result"
    }
   ],
   "source": [
    "my_fave_player = player_data[player_data['Player'] == 'Kevin Durant']\n",
    "my_fave_player"
   ]
  },
  {
   "cell_type": "markdown",
   "metadata": {},
   "source": [
    "Additionally, we can see all the players who received MVP votes in all our data: AKA which players have MVP Scores that are nonzero. NOTE: MVP Votes being 0 does not imply not getting any votes as MVP Votes corresponds to 1st place votes, which are not given to every player who was considered for voting. As you'll see below, there are 83 players since 2000 who have received some share of MVP votes."
   ]
  },
  {
   "cell_type": "code",
   "execution_count": 6,
   "metadata": {},
   "outputs": [
    {
     "name": "stdout",
     "output_type": "stream",
     "text": [
      "Number of Players who received MVP Votes: 83\n"
     ]
    },
    {
     "data": {
      "text/plain": [
       "{'Al Jefferson': Int64Index([14], dtype='int64', name='Year'),\n",
       " 'Allen Iverson': Int64Index([6, 5, 3, 2, 1], dtype='int64', name='Year'),\n",
       " \"Amar'e Stoudemire\": Int64Index([11, 10, 8, 7, 5], dtype='int64', name='Year'),\n",
       " 'Andrei Kirilenko': Int64Index([4], dtype='int64', name='Year'),\n",
       " 'Antawn Jamison': Int64Index([8], dtype='int64', name='Year'),\n",
       " 'Anthony Davis': Int64Index([18, 17, 15], dtype='int64', name='Year'),\n",
       " 'Anthony Mason': Int64Index([1], dtype='int64', name='Year'),\n",
       " 'Baron Davis': Int64Index([7, 4], dtype='int64', name='Year'),\n",
       " 'Ben Wallace': Int64Index([4, 3, 2], dtype='int64', name='Year'),\n",
       " 'Blake Griffin': Int64Index([15, 14, 11], dtype='int64', name='Year'),\n",
       " 'Brandon Roy': Int64Index([9], dtype='int64', name='Year'),\n",
       " 'Carlos Boozer': Int64Index([8, 7], dtype='int64', name='Year'),\n",
       " 'Carmelo Anthony': Int64Index([14, 13, 10, 8, 7, 4], dtype='int64', name='Year'),\n",
       " 'Chauncey Billups': Int64Index([10, 9, 7, 6], dtype='int64', name='Year'),\n",
       " 'Chris Bosh': Int64Index([10, 7], dtype='int64', name='Year'),\n",
       " 'Chris Paul': Int64Index([16, 15, 14, 13, 12, 11, 9, 8], dtype='int64', name='Year'),\n",
       " 'Chris Webber': Int64Index([3, 2, 1], dtype='int64', name='Year'),\n",
       " 'Damian Lillard': Int64Index([18, 16], dtype='int64', name='Year'),\n",
       " 'David Lee': Int64Index([13], dtype='int64', name='Year'),\n",
       " 'David Robinson': Int64Index([1], dtype='int64', name='Year'),\n",
       " 'DeMar DeRozan': Int64Index([18, 17], dtype='int64', name='Year'),\n",
       " 'Deron Williams': Int64Index([10, 8], dtype='int64', name='Year'),\n",
       " 'Derrick Rose': Int64Index([12, 11], dtype='int64', name='Year'),\n",
       " 'Dirk Nowitzki': Int64Index([14, 12, 11, 10, 9, 8, 7, 6, 5, 4, 3, 2], dtype='int64', name='Year'),\n",
       " 'Draymond Green': Int64Index([16], dtype='int64', name='Year'),\n",
       " 'Dwight Howard': Int64Index([12, 11, 10, 9, 8], dtype='int64', name='Year'),\n",
       " 'Dwyane Wade': Int64Index([13, 12, 11, 10, 9, 7, 6, 5], dtype='int64', name='Year'),\n",
       " 'Elton Brand': Int64Index([6, 2], dtype='int64', name='Year'),\n",
       " 'Gary Payton': Int64Index([2], dtype='int64', name='Year'),\n",
       " 'Giannis Antetokounmpo': Int64Index([18, 17], dtype='int64', name='Year'),\n",
       " 'Gilbert Arenas': Int64Index([7, 5], dtype='int64', name='Year'),\n",
       " 'Goran Dragic': Int64Index([14], dtype='int64', name='Year'),\n",
       " 'Isaiah Thomas': Int64Index([17], dtype='int64', name='Year'),\n",
       " 'Jamal Mashburn': Int64Index([3], dtype='int64', name='Year'),\n",
       " 'James Harden': Int64Index([18, 17, 16, 15, 14, 13], dtype='int64', name='Year'),\n",
       " 'Jason Kidd': Int64Index([4, 3, 2, 1], dtype='int64', name='Year'),\n",
       " \"Jermaine O'Neal\": Int64Index([4], dtype='int64', name='Year'),\n",
       " 'Jerry Stackhouse': Int64Index([2, 1], dtype='int64', name='Year'),\n",
       " 'Jimmy Butler': Int64Index([18], dtype='int64', name='Year'),\n",
       " 'Joakim Noah': Int64Index([14, 13], dtype='int64', name='Year'),\n",
       " 'Joe Johnson': Int64Index([12, 10], dtype='int64', name='Year'),\n",
       " 'Joel Embiid': Int64Index([18], dtype='int64', name='Year'),\n",
       " 'John Stockton': Int64Index([1], dtype='int64', name='Year'),\n",
       " 'John Wall': Int64Index([17], dtype='int64', name='Year'),\n",
       " 'Karl Malone': Int64Index([1], dtype='int64', name='Year'),\n",
       " 'Kawhi Leonard': Int64Index([17, 16, 15], dtype='int64', name='Year'),\n",
       " 'Kevin Durant': Int64Index([18, 17, 16, 14, 13, 12, 11, 10], dtype='int64', name='Year'),\n",
       " 'Kevin Garnett': Int64Index([13, 8, 7, 5, 4, 3, 2, 1], dtype='int64', name='Year'),\n",
       " 'Kevin Love': Int64Index([14, 12], dtype='int64', name='Year'),\n",
       " 'Klay Thompson': Int64Index([15], dtype='int64', name='Year'),\n",
       " 'Kobe Bryant': Int64Index([13, 12, 11, 10, 9, 8, 7, 6, 4, 3, 2, 1], dtype='int64', name='Year'),\n",
       " 'Kyle Lowry': Int64Index([16], dtype='int64', name='Year'),\n",
       " 'LaMarcus Aldridge': Int64Index([18, 15, 14], dtype='int64', name='Year'),\n",
       " 'LeBron James': Int64Index([18, 17, 16, 15, 14, 13, 12, 11, 10, 9, 8, 7, 6, 5, 4], dtype='int64', name='Year'),\n",
       " 'Manu Ginobili': Int64Index([11, 10, 8], dtype='int64', name='Year'),\n",
       " 'Marc Gasol': Int64Index([15, 13], dtype='int64', name='Year'),\n",
       " 'Marcus Camby': Int64Index([5], dtype='int64', name='Year'),\n",
       " 'Michael Finley': Int64Index([1], dtype='int64', name='Year'),\n",
       " 'Michael Jordan': Int64Index([2], dtype='int64', name='Year'),\n",
       " 'Michael Redd': Int64Index([4], dtype='int64', name='Year'),\n",
       " 'Mike Bibby': Int64Index([2], dtype='int64', name='Year'),\n",
       " 'Mike Conley': Int64Index([14], dtype='int64', name='Year'),\n",
       " 'P.J. Brown': Int64Index([5], dtype='int64', name='Year'),\n",
       " 'Paul George': Int64Index([14], dtype='int64', name='Year'),\n",
       " 'Paul Pierce': Int64Index([9, 8, 3, 2, 1], dtype='int64', name='Year'),\n",
       " 'Peja Stojakovic': Int64Index([4, 2], dtype='int64', name='Year'),\n",
       " 'Rajon Rondo': Int64Index([12, 11], dtype='int64', name='Year'),\n",
       " 'Rasheed Wallace': Int64Index([8], dtype='int64', name='Year'),\n",
       " 'Ray Allen': Int64Index([5, 1], dtype='int64', name='Year'),\n",
       " 'Russell Westbrook': Int64Index([18, 17, 16, 15, 13, 12], dtype='int64', name='Year'),\n",
       " 'Sam Cassell': Int64Index([4], dtype='int64', name='Year'),\n",
       " \"Shaquille O'Neal\": Int64Index([7, 5, 4, 3, 2, 1], dtype='int64', name='Year'),\n",
       " 'Shawn Marion': Int64Index([6, 5], dtype='int64', name='Year'),\n",
       " 'Stephen Curry': Int64Index([18, 17, 16, 15, 14, 13], dtype='int64', name='Year'),\n",
       " 'Stephen Jackson': Int64Index([10], dtype='int64', name='Year'),\n",
       " 'Steve Nash': Int64Index([12, 10, 8, 7, 6, 5, 3, 2], dtype='int64', name='Year'),\n",
       " 'Tim Duncan': Int64Index([15, 14, 13, 12, 9, 8, 7, 6, 5, 4, 3, 2, 1], dtype='int64', name='Year'),\n",
       " 'Tony Parker': Int64Index([14, 13, 12, 11, 9, 7, 6], dtype='int64', name='Year'),\n",
       " 'Tracy McGrady': Int64Index([8, 7, 5, 3, 2, 1], dtype='int64', name='Year'),\n",
       " 'Ty Lawson': Int64Index([13], dtype='int64', name='Year'),\n",
       " 'Victor Oladipo': Int64Index([18], dtype='int64', name='Year'),\n",
       " 'Vince Carter': Int64Index([5, 1], dtype='int64', name='Year'),\n",
       " 'Yao Ming': Int64Index([9, 4], dtype='int64', name='Year')}"
      ]
     },
     "execution_count": 6,
     "metadata": {},
     "output_type": "execute_result"
    }
   ],
   "source": [
    "players_who_got_mvp_votes = player_data[player_data['MVP Score'] != 0.0].groupby('Player')\n",
    "print(\"Number of Players who received MVP Votes: \" + str(len(players_who_got_mvp_votes.groups)))\n",
    "players_who_got_mvp_votes.groups"
   ]
  },
  {
   "cell_type": "markdown",
   "metadata": {},
   "source": [
    "As you can see, only 29 players received first place votes over the past 18 seasons, some could argue that these have been the best 29 players over the last few years, but thats a subject for another day!"
   ]
  },
  {
   "cell_type": "code",
   "execution_count": 7,
   "metadata": {},
   "outputs": [
    {
     "name": "stdout",
     "output_type": "stream",
     "text": [
      "Number of Players who received 1st Place Votes: 29\n"
     ]
    },
    {
     "data": {
      "text/plain": [
       "{'Allen Iverson': Int64Index([5, 1], dtype='int64', name='Year'),\n",
       " \"Amar'e Stoudemire\": Int64Index([5], dtype='int64', name='Year'),\n",
       " 'Ben Wallace': Int64Index([3], dtype='int64', name='Year'),\n",
       " 'Carmelo Anthony': Int64Index([13], dtype='int64', name='Year'),\n",
       " 'Chauncey Billups': Int64Index([6], dtype='int64', name='Year'),\n",
       " 'Chris Paul': Int64Index([12, 9, 8], dtype='int64', name='Year'),\n",
       " 'Chris Webber': Int64Index([1], dtype='int64', name='Year'),\n",
       " 'Derrick Rose': Int64Index([11], dtype='int64', name='Year'),\n",
       " 'Dirk Nowitzki': Int64Index([7, 6], dtype='int64', name='Year'),\n",
       " 'Dwight Howard': Int64Index([11, 10, 9], dtype='int64', name='Year'),\n",
       " 'Dwyane Wade': Int64Index([9], dtype='int64', name='Year'),\n",
       " 'Elton Brand': Int64Index([6], dtype='int64', name='Year'),\n",
       " 'Gary Payton': Int64Index([2], dtype='int64', name='Year'),\n",
       " 'James Harden': Int64Index([18, 17, 15], dtype='int64', name='Year'),\n",
       " 'Jason Kidd': Int64Index([2], dtype='int64', name='Year'),\n",
       " \"Jermaine O'Neal\": Int64Index([4], dtype='int64', name='Year'),\n",
       " 'Kawhi Leonard': Int64Index([17], dtype='int64', name='Year'),\n",
       " 'Kevin Durant': Int64Index([14, 12, 10], dtype='int64', name='Year'),\n",
       " 'Kevin Garnett': Int64Index([8, 4, 3, 1], dtype='int64', name='Year'),\n",
       " 'Kobe Bryant': Int64Index([12, 11, 9, 8, 7, 6, 3, 2], dtype='int64', name='Year'),\n",
       " 'LeBron James': Int64Index([18, 17, 15, 14, 13, 12, 11, 10, 9, 8, 6], dtype='int64', name='Year'),\n",
       " 'Peja Stojakovic': Int64Index([4], dtype='int64', name='Year'),\n",
       " 'Russell Westbrook': Int64Index([17], dtype='int64', name='Year'),\n",
       " \"Shaquille O'Neal\": Int64Index([5, 3, 2, 1], dtype='int64', name='Year'),\n",
       " 'Stephen Curry': Int64Index([16, 15], dtype='int64', name='Year'),\n",
       " 'Steve Nash': Int64Index([7, 6, 5], dtype='int64', name='Year'),\n",
       " 'Tim Duncan': Int64Index([5, 3, 2, 1], dtype='int64', name='Year'),\n",
       " 'Tony Parker': Int64Index([12], dtype='int64', name='Year'),\n",
       " 'Tracy McGrady': Int64Index([3, 2], dtype='int64', name='Year')}"
      ]
     },
     "execution_count": 7,
     "metadata": {},
     "output_type": "execute_result"
    }
   ],
   "source": [
    "players_who_got_mvp_first_place = player_data[player_data['1st Place MVP Votes'] != 0.0].groupby('Player')\n",
    "print(\"Number of Players who received 1st Place Votes: \" + str(len(players_who_got_mvp_first_place.groups)))\n",
    "players_who_got_mvp_first_place.groups"
   ]
  },
  {
   "cell_type": "markdown",
   "metadata": {},
   "source": [
    "# Feature Selection"
   ]
  },
  {
   "cell_type": "markdown",
   "metadata": {},
   "source": [
    "Next, since our goal is to predict the 2019 MVP, we will turn this into a supervised learning problem. Supervised learning problems involve a simple formula: Y = f(X) where X is our input, Y is our output, and f() is our mapping function. Our goal is to create/train such that our mapping function f() is really good at predicting output(Y) accurately given a particular (X). Thus our model will be as such: X will be a d-dimensional vector representing player stats from a certain year and Y will be our output (a vector containing mvp scores for all players from that year -> the max being the player who should win the MVP in that season.\n",
    "\n",
    "\n",
    "To train our model, however, it is imperative we select good features, so before we choose some, we will utilize three different feature selection algorithms to determine the best features to use: Feature Dependency based on mutual information regression, Random Forest Regressor feature importance (both thanks to sklearn's feature selection package), and the Pearson coefficient matrix determining what values most correlate to our target of 'MVP Score'<br/>\n"
   ]
  },
  {
   "cell_type": "code",
   "execution_count": 8,
   "metadata": {},
   "outputs": [
    {
     "data": {
      "text/plain": [
       "['MP',\n",
       " 'FG',\n",
       " 'FGA',\n",
       " '2P',\n",
       " '2PA',\n",
       " 'FTA',\n",
       " 'TOV',\n",
       " 'PTS',\n",
       " 'PER',\n",
       " 'USG%',\n",
       " 'OWS',\n",
       " 'WS',\n",
       " 'WS/48',\n",
       " 'BPM',\n",
       " 'VORP']"
      ]
     },
     "execution_count": 8,
     "metadata": {},
     "output_type": "execute_result"
    }
   ],
   "source": [
    "y = player_data['MVP Score']\n",
    "X = player_data.drop(['MVP Score', 'Player', 'Tm', 'Pos'], axis=1)\n",
    "mi = mutual_info_regression(X, y)\n",
    "mi /= np.max(mi)\n",
    "indices_mi = np.argwhere(mi > 0.5)\n",
    "top_features_mutual_info = [X.columns.values.tolist()[i[0]] for i in indices_mi]\n",
    "top_features_mutual_info"
   ]
  },
  {
   "cell_type": "code",
   "execution_count": 9,
   "metadata": {},
   "outputs": [
    {
     "data": {
      "text/plain": [
       "['1st Place MVP Votes',\n",
       " 'WS',\n",
       " 'VORP',\n",
       " 'DWS',\n",
       " 'OWS',\n",
       " 'USG%',\n",
       " 'PER',\n",
       " 'PF',\n",
       " 'FG',\n",
       " 'Age',\n",
       " '3PAr',\n",
       " 'BLK%',\n",
       " 'PTS',\n",
       " 'WS/48',\n",
       " 'G',\n",
       " 'GS',\n",
       " '2P',\n",
       " 'DBPM',\n",
       " 'TS%',\n",
       " 'BLK',\n",
       " 'FT%',\n",
       " 'id',\n",
       " '2P%',\n",
       " 'TOV%',\n",
       " 'MP',\n",
       " 'AST%',\n",
       " 'FGA',\n",
       " '2PA',\n",
       " 'OBPM',\n",
       " 'BPM',\n",
       " 'FG%',\n",
       " '3P%',\n",
       " 'STL%',\n",
       " 'STL',\n",
       " 'TOV',\n",
       " 'AST',\n",
       " 'eFG%',\n",
       " '3PA',\n",
       " 'FTr',\n",
       " '3P',\n",
       " 'FTA',\n",
       " 'ORB%',\n",
       " 'TRB',\n",
       " 'DRB%',\n",
       " 'TRB%',\n",
       " 'FT',\n",
       " 'ORB',\n",
       " 'DRB']"
      ]
     },
     "execution_count": 9,
     "metadata": {},
     "output_type": "execute_result"
    }
   ],
   "source": [
    "regr = RandomForestRegressor(max_depth=5, random_state=0, n_estimators=100)\n",
    "regr.fit(X, y)\n",
    "random_forest = regr.feature_importances_\n",
    "r_f = {k: v for k, v in (zip(X.columns.values.tolist(), random_forest))}\n",
    "sorted_r_f = sorted(r_f.items(), key=operator.itemgetter(1))\n",
    "top_features_r_f = [tup[0] for tup in sorted_r_f]\n",
    "top_features_r_f.reverse()\n",
    "top_features_r_f"
   ]
  },
  {
   "cell_type": "code",
   "execution_count": 10,
   "metadata": {},
   "outputs": [
    {
     "data": {
      "text/plain": [
       "['MVP Score',\n",
       " '1st Place MVP Votes',\n",
       " 'VORP',\n",
       " 'OWS',\n",
       " 'WS',\n",
       " 'FTA',\n",
       " 'FT',\n",
       " 'PTS',\n",
       " 'FG',\n",
       " '2P',\n",
       " 'DWS',\n",
       " 'TOV',\n",
       " 'FGA',\n",
       " '2PA',\n",
       " 'AST',\n",
       " 'PER',\n",
       " 'USG%',\n",
       " 'BPM',\n",
       " 'OBPM',\n",
       " 'DRB',\n",
       " 'STL',\n",
       " 'AST%',\n",
       " 'GS',\n",
       " 'MP',\n",
       " 'TRB',\n",
       " 'WS/48',\n",
       " '3P',\n",
       " 'BLK',\n",
       " '3PA',\n",
       " 'G',\n",
       " 'DBPM',\n",
       " 'TS%',\n",
       " 'ORB',\n",
       " '2P%',\n",
       " 'DRB%',\n",
       " 'FG%',\n",
       " 'eFG%',\n",
       " 'FTr',\n",
       " 'PF',\n",
       " 'FT%',\n",
       " 'STL%',\n",
       " '3P%',\n",
       " 'TRB%',\n",
       " 'BLK%',\n",
       " 'id',\n",
       " 'Age',\n",
       " '3PAr',\n",
       " 'ORB%',\n",
       " 'TOV%']"
      ]
     },
     "execution_count": 10,
     "metadata": {},
     "output_type": "execute_result"
    }
   ],
   "source": [
    "corr = player_data.corr()\n",
    "top_features_pearson = corr['MVP Score'].sort_values(ascending=False).index.tolist()\n",
    "top_features_pearson"
   ]
  },
  {
   "cell_type": "code",
   "execution_count": 95,
   "metadata": {},
   "outputs": [],
   "source": [
    "#finalized_features = list(set(top_features_mutual_info) & set(top_features_pearson) & set(top_features_r_f))\n",
    "finalized_features = ['Player', 'Tm', 'id'] + ['PTS', 'TRB', 'AST', 'STL', 'BLK', 'TS%', 'WS', 'WS/48', 'VORP', \n",
    "                                              'BPM', 'USG%', 'G', 'MP', '2P%', '3P%', 'FT%', 'PER', \n",
    "                                               'MVP Score', 'Team Wins', 'Team Losses', 'Team Rank', 'W/L%']\n",
    "\n"
   ]
  },
  {
   "cell_type": "markdown",
   "metadata": {},
   "source": [
    "As you can see above, we have obtained three different sets of \"best features\" we can use to train our models. Now, we have to remove redundant information from all three and finalize a set of features. The finalized set I chose can be seen above, I also removed some features that the feature selection algorithms chose that I felt aren't exactly useful in today's NBA. Additionally, I decided to use three team_data features: 'Team Wins', Team Rank', 'W/L%'."
   ]
  },
  {
   "cell_type": "code",
   "execution_count": 96,
   "metadata": {},
   "outputs": [
    {
     "data": {
      "text/plain": [
       "['Player',\n",
       " 'Tm',\n",
       " 'id',\n",
       " 'PTS',\n",
       " 'TRB',\n",
       " 'AST',\n",
       " 'STL',\n",
       " 'BLK',\n",
       " 'TS%',\n",
       " 'WS',\n",
       " 'WS/48',\n",
       " 'VORP',\n",
       " 'BPM',\n",
       " 'USG%',\n",
       " 'G',\n",
       " 'MP',\n",
       " '2P%',\n",
       " '3P%',\n",
       " 'FT%',\n",
       " 'PER',\n",
       " 'MVP Score',\n",
       " 'Team Wins',\n",
       " 'Team Losses',\n",
       " 'Team Rank',\n",
       " 'W/L%']"
      ]
     },
     "execution_count": 96,
     "metadata": {},
     "output_type": "execute_result"
    }
   ],
   "source": [
    "finalized_features"
   ]
  },
  {
   "cell_type": "code",
   "execution_count": 97,
   "metadata": {},
   "outputs": [],
   "source": [
    "def feature_based_season_vector(player, year):\n",
    "    team_data_conv = ['MIL', 'GSW', 'TOR', 'UTA', 'HOU', 'POR', 'DEN', 'BOS', 'OKC', 'IND', 'PHI', 'SAS', 'LAC', 'ORL','MIA', \n",
    "                  'BRK', 'DET', 'SAC', 'DAL', 'MIN', 'NOP', 'LAL', 'CHA', 'MEM', 'WAS', 'ATL', 'CHI', 'PHO', 'NYK', 'CLE']\n",
    "    team_conv = {k: v for k, v in (zip(team_data_conv, team_data['Team']))}\n",
    "    team_conv['NJN'] = 'New Jersey Nets'\n",
    "    team_conv['SEA'] = 'Seattle Supersonics'\n",
    "    team_conv['CHO'] = 'Charlotte Bobcats'\n",
    "    team_conv['CHH'] = 'Charlotte Hornets'\n",
    "    team_conv['NOH'] = 'New Orleans Hornets'\n",
    "    team_conv['NOK'] = 'New Orleans/Oklahoma City Hornets'\n",
    "    team_conv['VAN'] = 'Vancouver Grizzlies'\n",
    "    this_guys_data = player_data[player_data['Player'] == player]\n",
    "    this_guys_data = this_guys_data[this_guys_data.index == year]\n",
    "    this_guys_team = this_guys_data['Tm'][year]\n",
    "    season_vec = this_guys_data[finalized_features[:len(finalized_features) - 4]]\n",
    "    if this_guys_data['Tm'].any() == 'TOT':\n",
    "        season_vec['Team Wins'] = 0\n",
    "        season_vec['Team Losses'] = 0\n",
    "        season_vec['Team Rank'] = 30\n",
    "        season_vec['W/L%'] = 0.0\n",
    "    else:\n",
    "        his_team_data = team_data[team_data['Team'] == team_conv[str(this_guys_team)]]\n",
    "        season_vec['Team Wins'] = his_team_data['W']\n",
    "        season_vec['Team Losses'] = his_team_data['L']\n",
    "        season_vec['Team Rank'] = his_team_data['Rk']\n",
    "        season_vec['W/L%'] = his_team_data['W/L%']\n",
    "    return season_vec\n",
    "    "
   ]
  },
  {
   "cell_type": "markdown",
   "metadata": {},
   "source": [
    "Now, with the two helper functions above, we can extract season vectors for a player during a particular season that he played in. For example, Stephen Curry's season vector for 2017 is displayed below."
   ]
  },
  {
   "cell_type": "code",
   "execution_count": 98,
   "metadata": {},
   "outputs": [
    {
     "data": {
      "text/html": [
       "<div>\n",
       "<style>\n",
       "    .dataframe thead tr:only-child th {\n",
       "        text-align: right;\n",
       "    }\n",
       "\n",
       "    .dataframe thead th {\n",
       "        text-align: left;\n",
       "    }\n",
       "\n",
       "    .dataframe tbody tr th {\n",
       "        vertical-align: top;\n",
       "    }\n",
       "</style>\n",
       "<table border=\"1\" class=\"dataframe\">\n",
       "  <thead>\n",
       "    <tr style=\"text-align: right;\">\n",
       "      <th></th>\n",
       "      <th>Player</th>\n",
       "      <th>Tm</th>\n",
       "      <th>id</th>\n",
       "      <th>PTS</th>\n",
       "      <th>TRB</th>\n",
       "      <th>AST</th>\n",
       "      <th>STL</th>\n",
       "      <th>BLK</th>\n",
       "      <th>TS%</th>\n",
       "      <th>WS</th>\n",
       "      <th>...</th>\n",
       "      <th>MP</th>\n",
       "      <th>2P%</th>\n",
       "      <th>3P%</th>\n",
       "      <th>FT%</th>\n",
       "      <th>PER</th>\n",
       "      <th>MVP Score</th>\n",
       "      <th>Team Wins</th>\n",
       "      <th>Team Losses</th>\n",
       "      <th>Team Rank</th>\n",
       "      <th>W/L%</th>\n",
       "    </tr>\n",
       "    <tr>\n",
       "      <th>Year</th>\n",
       "      <th></th>\n",
       "      <th></th>\n",
       "      <th></th>\n",
       "      <th></th>\n",
       "      <th></th>\n",
       "      <th></th>\n",
       "      <th></th>\n",
       "      <th></th>\n",
       "      <th></th>\n",
       "      <th></th>\n",
       "      <th></th>\n",
       "      <th></th>\n",
       "      <th></th>\n",
       "      <th></th>\n",
       "      <th></th>\n",
       "      <th></th>\n",
       "      <th></th>\n",
       "      <th></th>\n",
       "      <th></th>\n",
       "      <th></th>\n",
       "      <th></th>\n",
       "    </tr>\n",
       "  </thead>\n",
       "  <tbody>\n",
       "    <tr>\n",
       "      <th>17</th>\n",
       "      <td>Stephen Curry</td>\n",
       "      <td>GSW</td>\n",
       "      <td>1606</td>\n",
       "      <td>25.3</td>\n",
       "      <td>4.5</td>\n",
       "      <td>6.6</td>\n",
       "      <td>1.8</td>\n",
       "      <td>0.2</td>\n",
       "      <td>0.624</td>\n",
       "      <td>12.6</td>\n",
       "      <td>...</td>\n",
       "      <td>33.4</td>\n",
       "      <td>0.537</td>\n",
       "      <td>0.411</td>\n",
       "      <td>0.898</td>\n",
       "      <td>24.6</td>\n",
       "      <td>0.051</td>\n",
       "      <td>67</td>\n",
       "      <td>15</td>\n",
       "      <td>1</td>\n",
       "      <td>0.817</td>\n",
       "    </tr>\n",
       "  </tbody>\n",
       "</table>\n",
       "<p>1 rows × 25 columns</p>\n",
       "</div>"
      ],
      "text/plain": [
       "             Player   Tm    id   PTS  TRB  AST  STL  BLK    TS%    WS  ...    \\\n",
       "Year                                                                   ...     \n",
       "17    Stephen Curry  GSW  1606  25.3  4.5  6.6  1.8  0.2  0.624  12.6  ...     \n",
       "\n",
       "        MP    2P%    3P%    FT%   PER  MVP Score  Team Wins  Team Losses  \\\n",
       "Year                                                                       \n",
       "17    33.4  0.537  0.411  0.898  24.6      0.051         67           15   \n",
       "\n",
       "      Team Rank   W/L%  \n",
       "Year                    \n",
       "17            1  0.817  \n",
       "\n",
       "[1 rows x 25 columns]"
      ]
     },
     "execution_count": 98,
     "metadata": {},
     "output_type": "execute_result"
    }
   ],
   "source": [
    "steph_17 = feature_based_season_vector('Stephen Curry', 17)\n",
    "steph_17"
   ]
  },
  {
   "cell_type": "code",
   "execution_count": null,
   "metadata": {},
   "outputs": [],
   "source": [
    "#||||| THIS METHOD TAKES A REALLY LONG TIME SO ITS COMMENTED OUT RN! |||||\n",
    "def calculate_all_season_vectors(df):\n",
    "    s_v = []\n",
    "    for index, row in df.iterrows():\n",
    "        print(row[0], index)\n",
    "        s_v += [feature_based_season_vector(row[0], index).values.tolist()[0]]\n",
    "    return s_v \n",
    "season_vectors = calculate_all_season_vectors(player_data)\n",
    "print(season_vectors)\n",
    "np.save('season_vectors', season_vectors)"
   ]
  },
  {
   "cell_type": "code",
   "execution_count": 101,
   "metadata": {},
   "outputs": [],
   "source": [
    "season_vectors = np.load('season_vectors.npy')\n",
    "season_vectors = pd.DataFrame(season_vectors, index=player_data.index, columns=finalized_features)"
   ]
  },
  {
   "cell_type": "markdown",
   "metadata": {},
   "source": [
    "# Train/Test Split"
   ]
  },
  {
   "cell_type": "code",
   "execution_count": 102,
   "metadata": {},
   "outputs": [],
   "source": [
    "def create_train_set(list_of_years):\n",
    "    all_but_max = season_vectors[season_vectors.index.isin(list_of_years)]\n",
    "    y_train = all_but_max['MVP Score'].values.tolist()\n",
    "    all_but_max = all_but_max.drop(['Player', 'Tm', 'MVP Score'], axis=1)\n",
    "    x_train = all_but_max.values.tolist()\n",
    "    return np.array(x_train), np.array(y_train)"
   ]
  },
  {
   "cell_type": "code",
   "execution_count": 103,
   "metadata": {},
   "outputs": [],
   "source": [
    "def create_test_set(prediction_year):\n",
    "    season = season_vectors[season_vectors.index == prediction_year]\n",
    "    season = season.drop(['Player', 'Tm', 'MVP Score'], axis=1)\n",
    "    x_test = season.values.tolist()\n",
    "    return np.array(x_test)"
   ]
  },
  {
   "cell_type": "code",
   "execution_count": 104,
   "metadata": {},
   "outputs": [],
   "source": [
    "prediction_year = 19\n",
    "list_of_years = list(np.arange(1, prediction_year))\n",
    "x_train, y_train = create_train_set(list_of_years)\n",
    "x_test = create_test_set(prediction_year)\n",
    "x_train = x_train.astype(float)\n",
    "y_train = y_train.astype(float)\n",
    "x_test = x_test.astype(float)"
   ]
  },
  {
   "cell_type": "code",
   "execution_count": 105,
   "metadata": {},
   "outputs": [],
   "source": [
    "np.save('x_train', x_train)\n",
    "np.save('y_train', y_train)"
   ]
  },
  {
   "cell_type": "code",
   "execution_count": 106,
   "metadata": {},
   "outputs": [
    {
     "name": "stdout",
     "output_type": "stream",
     "text": [
      "(8329, 22) (8329,)\n"
     ]
    }
   ],
   "source": [
    "print(x_train.shape, y_train.shape)"
   ]
  },
  {
   "cell_type": "markdown",
   "metadata": {},
   "source": [
    "# Predicting the MVP for the 2018-2019 Season w/ Different Models"
   ]
  },
  {
   "cell_type": "code",
   "execution_count": 164,
   "metadata": {},
   "outputs": [],
   "source": [
    "lin_reg = linear_model.LinearRegression()\n",
    "lasso = linear_model.LassoCV(alphas=np.logspace(-6, 6, 13), cv=5)\n",
    "ridge = linear_model.RidgeCV(alphas=np.logspace(-6, 6, 13), cv=5)\n",
    "linear_svr = svm.LinearSVR(random_state=0, tol=1e-05)\n",
    "dec_tree = tree.DecisionTreeRegressor(random_state=0,  max_depth=5, max_features=10)\n",
    "grad_boost = GradientBoostingRegressor(n_estimators=100, learning_rate=0.1)"
   ]
  },
  {
   "cell_type": "code",
   "execution_count": 165,
   "metadata": {},
   "outputs": [],
   "source": [
    "where_are_NaNs_train = np.isnan(x_train)\n",
    "where_are_NaNs_test = np.isnan(x_test)\n",
    "where_are_NaNs_y_train = np.isnan(y_train)\n",
    "x_train[where_are_NaNs_train] = 0\n",
    "x_test[where_are_NaNs_test] = 0\n",
    "y_train[where_are_NaNs_y_train] = 0\n",
    "\n",
    "#Linear Regression (normal least squares)\n",
    "lin_reg.fit(x_train, y_train)\n",
    "lin_reg_predictions_19 = lin_reg.predict(x_test)\n",
    "\n",
    "#Lasso Regression w/ Built in Cross Validation\n",
    "lasso.fit(x_train, y_train)\n",
    "lasso_predictions_19 = lasso.predict(x_test)\n",
    "\n",
    "#Ridge Regression w/ Built in Cross Validation\n",
    "ridge.fit(x_train, y_train)\n",
    "ridge_predictions_19 = ridge.predict(x_test)\n",
    "\n",
    "#Linear Support Vector Regression\n",
    "linear_svr.fit(x_train, y_train)\n",
    "linear_svr_predictions_19 = linear_svr.predict(x_test)\n",
    "\n",
    "#Decision Tree Regressor\n",
    "dec_tree.fit(x_train, y_train)\n",
    "dec_tree_predictions_19 = dec_tree.predict(x_test)\n",
    "\n",
    "# Gradient Boosting Regressor\n",
    "grad_boost.fit(x_train, y_train)\n",
    "grad_boost_predictions_19 = grad_boost.predict(x_test)"
   ]
  },
  {
   "cell_type": "code",
   "execution_count": 166,
   "metadata": {},
   "outputs": [],
   "source": [
    "def calculate_top_10_predictions(predictions, year):\n",
    "    results = []\n",
    "    top_10_ascending = list(np.argsort(predictions)[-10:])\n",
    "    top_10_ascending.reverse()\n",
    "    for id in top_10_ascending:\n",
    "        p_id = x_test[id][0]\n",
    "        year_results = player_data[player_data.index == year]\n",
    "        print(\"Player: \" + str(year_results[year_results['id'] == p_id]['Player'][year]) + \", MVP Score: \" + str(predictions[id]))\n",
    "        results += [str(year_results[year_results['id'] == p_id]['Player'][year])]\n",
    "    return results"
   ]
  },
  {
   "cell_type": "code",
   "execution_count": 167,
   "metadata": {},
   "outputs": [],
   "source": [
    "def calculate_top_10_year(year):\n",
    "    year_res = player_data[player_data.index == year].sort_values('MVP Score', ascending=False)['Player'][:10]\n",
    "    return year_res.values.tolist()"
   ]
  },
  {
   "cell_type": "code",
   "execution_count": 168,
   "metadata": {},
   "outputs": [
    {
     "name": "stdout",
     "output_type": "stream",
     "text": [
      "Linear Regression Predictions for 2018-2019 MVP\n",
      "\n",
      "Player: James Harden, MVP Score: 0.260480543318\n",
      "Player: Giannis Antetokounmpo, MVP Score: 0.198278318301\n",
      "Player: Nikola Jokic, MVP Score: 0.168612818867\n",
      "Player: LeBron James, MVP Score: 0.145690687639\n",
      "Player: Russell Westbrook, MVP Score: 0.144276340845\n",
      "Player: Damian Lillard, MVP Score: 0.141642269852\n",
      "Player: Karl-Anthony Towns, MVP Score: 0.140821391829\n",
      "Player: Stephen Curry, MVP Score: 0.132511037046\n",
      "Player: Kevin Durant, MVP Score: 0.127255339689\n",
      "Player: Anthony Davis, MVP Score: 0.125147971838\n"
     ]
    }
   ],
   "source": [
    "print(\"Linear Regression Predictions for 2018-2019 MVP\\n\")\n",
    "top_10_lin_reg_19 = calculate_top_10_predictions(lin_reg_predictions_19, 19)"
   ]
  },
  {
   "cell_type": "code",
   "execution_count": 169,
   "metadata": {},
   "outputs": [
    {
     "name": "stdout",
     "output_type": "stream",
     "text": [
      "Lasso Regression Predictions for 2018-2019 MVP\n",
      "\n",
      "Player: James Harden, MVP Score: 0.242555285918\n",
      "Player: Giannis Antetokounmpo, MVP Score: 0.183532431278\n",
      "Player: Nikola Jokic, MVP Score: 0.153389444496\n",
      "Player: Damian Lillard, MVP Score: 0.13053915404\n",
      "Player: Paul George, MVP Score: 0.128880359333\n",
      "Player: LeBron James, MVP Score: 0.12831574052\n",
      "Player: Karl-Anthony Towns, MVP Score: 0.127513264016\n",
      "Player: Stephen Curry, MVP Score: 0.126168556347\n",
      "Player: Russell Westbrook, MVP Score: 0.125502171584\n",
      "Player: Anthony Davis, MVP Score: 0.118452547937\n"
     ]
    }
   ],
   "source": [
    "print(\"Lasso Regression Predictions for 2018-2019 MVP\\n\")\n",
    "top_10_lasso_19 = calculate_top_10_predictions(lasso_predictions_19, 19)"
   ]
  },
  {
   "cell_type": "code",
   "execution_count": 170,
   "metadata": {},
   "outputs": [
    {
     "name": "stdout",
     "output_type": "stream",
     "text": [
      "Ridge Regression Predictions for 2018-2019 MVP\n",
      "\n",
      "Player: James Harden, MVP Score: 0.23869500145\n",
      "Player: Giannis Antetokounmpo, MVP Score: 0.188261983073\n",
      "Player: Nikola Jokic, MVP Score: 0.153115324877\n",
      "Player: Damian Lillard, MVP Score: 0.133726671809\n",
      "Player: LeBron James, MVP Score: 0.132626214683\n",
      "Player: Karl-Anthony Towns, MVP Score: 0.128836878865\n",
      "Player: Paul George, MVP Score: 0.128400590353\n",
      "Player: Russell Westbrook, MVP Score: 0.127418407672\n",
      "Player: Stephen Curry, MVP Score: 0.126841210807\n",
      "Player: Kevin Durant, MVP Score: 0.12306819993\n"
     ]
    }
   ],
   "source": [
    "print(\"Ridge Regression Predictions for 2018-2019 MVP\\n\")\n",
    "top_10_ridge_19 = calculate_top_10_predictions(ridge_predictions_19, 19)"
   ]
  },
  {
   "cell_type": "code",
   "execution_count": 171,
   "metadata": {},
   "outputs": [
    {
     "name": "stdout",
     "output_type": "stream",
     "text": [
      "Linear Support Vector Regression Predictions for 2018-2019 MVP\n",
      "\n",
      "Player: James Harden, MVP Score: 0.12475314841\n",
      "Player: Paul George, MVP Score: 0.0816023253067\n",
      "Player: Giannis Antetokounmpo, MVP Score: 0.079641485651\n",
      "Player: Anthony Davis, MVP Score: 0.0680944292338\n",
      "Player: Stephen Curry, MVP Score: 0.066221599684\n",
      "Player: Damian Lillard, MVP Score: 0.0661514477552\n",
      "Player: Kawhi Leonard, MVP Score: 0.0641141468512\n",
      "Player: Bradley Beal, MVP Score: 0.0616046695561\n",
      "Player: Karl-Anthony Towns, MVP Score: 0.0582478585835\n",
      "Player: Kyrie Irving, MVP Score: 0.0579885399385\n"
     ]
    }
   ],
   "source": [
    "print(\"Linear Support Vector Regression Predictions for 2018-2019 MVP\\n\")\n",
    "top_10_linear_svr_19 = calculate_top_10_predictions(linear_svr_predictions_19, 19)"
   ]
  },
  {
   "cell_type": "code",
   "execution_count": 172,
   "metadata": {},
   "outputs": [
    {
     "name": "stdout",
     "output_type": "stream",
     "text": [
      "Decision Tree Predictions for 2018-2019 MVP\n",
      "\n",
      "Player: Giannis Antetokounmpo, MVP Score: 0.888\n",
      "Player: James Harden, MVP Score: 0.472666666667\n",
      "Player: Stephen Curry, MVP Score: 0.307571428571\n",
      "Player: Kevin Durant, MVP Score: 0.307571428571\n",
      "Player: Kawhi Leonard, MVP Score: 0.307571428571\n",
      "Player: Joel Embiid, MVP Score: 0.0875\n",
      "Player: Damian Lillard, MVP Score: 0.08055\n",
      "Player: Nikola Jokic, MVP Score: 0.08055\n",
      "Player: Paul George, MVP Score: 0.08055\n",
      "Player: Rudy Gobert, MVP Score: 0.0256842105263\n"
     ]
    }
   ],
   "source": [
    "print(\"Decision Tree Predictions for 2018-2019 MVP\\n\")\n",
    "top_10_dec_tree_19 = calculate_top_10_predictions(dec_tree_predictions_19, 19)"
   ]
  },
  {
   "cell_type": "code",
   "execution_count": 173,
   "metadata": {},
   "outputs": [
    {
     "name": "stdout",
     "output_type": "stream",
     "text": [
      "Gradient Boosting Regressor Predictions for 2018-2019 MVP\n",
      "\n",
      "Player: James Harden, MVP Score: 0.910670193031\n",
      "Player: Giannis Antetokounmpo, MVP Score: 0.838336441914\n",
      "Player: Stephen Curry, MVP Score: 0.193492122123\n",
      "Player: Paul George, MVP Score: 0.137057122492\n",
      "Player: Damian Lillard, MVP Score: 0.0973584951985\n",
      "Player: Rudy Gobert, MVP Score: 0.0961601058003\n",
      "Player: Kevin Durant, MVP Score: 0.0944173252204\n",
      "Player: Anthony Davis, MVP Score: 0.0802893464811\n",
      "Player: LeBron James, MVP Score: 0.0709236937505\n",
      "Player: Joel Embiid, MVP Score: 0.0668184319523\n"
     ]
    }
   ],
   "source": [
    "print(\"Gradient Boosting Regressor Predictions for 2018-2019 MVP\\n\")\n",
    "top_10_grad_boost_19 = calculate_top_10_predictions(grad_boost_predictions_19, 19)"
   ]
  },
  {
   "cell_type": "code",
   "execution_count": 174,
   "metadata": {},
   "outputs": [],
   "source": [
    "def determine_accuracy(year, predictions, real):\n",
    "    #print(\"Actual Top 10: \" + str(real) + \"\\n\")\n",
    "    #print(\"Predicted Top 10: \" + str(predictions))\n",
    "    accuracy = len(set(real) & set(predictions))/len(real)\n",
    "    #print(\"Accuracy: \" + str(accuracy) + \"\\n\")\n",
    "    return accuracy "
   ]
  },
  {
   "cell_type": "code",
   "execution_count": 175,
   "metadata": {},
   "outputs": [],
   "source": [
    "basketball_reference_mvp_candidates = ['Giannis Antetokounmpo', 'James Harden', 'Nikola Jokic', 'Kawhi Leonard', 'Kevin Durant', \n",
    "                                       'Joel Embiid', 'Damian Lillard', 'Stephen Curry', 'Paul George', 'Russell Westbrook']"
   ]
  },
  {
   "cell_type": "code",
   "execution_count": 176,
   "metadata": {},
   "outputs": [
    {
     "name": "stdout",
     "output_type": "stream",
     "text": [
      "Linear Regression Accuracy for 19: 0.7\n",
      "Lasso Regression Accuracy for 19: 0.7\n",
      "Ridge Regression Accuracy for 19: 0.8\n",
      "Linear SVR Accuracy for 19: 0.6\n",
      "Decision Tree Regressor Accuracy for 19: 0.9\n",
      "Gradient Boosting Accuracy for 19: 0.7\n"
     ]
    }
   ],
   "source": [
    "print(\"Linear Regression Accuracy for 19: \" + str(determine_accuracy(19, top_10_lin_reg_19, basketball_reference_mvp_candidates)))\n",
    "print(\"Lasso Regression Accuracy for 19: \" + str(determine_accuracy(19, top_10_lasso_19, basketball_reference_mvp_candidates)))\n",
    "print(\"Ridge Regression Accuracy for 19: \" + str(determine_accuracy(19, top_10_ridge_19, basketball_reference_mvp_candidates)))\n",
    "print(\"Linear SVR Accuracy for 19: \" + str(determine_accuracy(19, top_10_linear_svr_19, basketball_reference_mvp_candidates)))\n",
    "print(\"Decision Tree Regressor Accuracy for 19: \" + str(determine_accuracy(19, top_10_dec_tree_19, basketball_reference_mvp_candidates)))\n",
    "print(\"Gradient Boosting Accuracy for 19: \" + str(determine_accuracy(19, top_10_grad_boost_19, basketball_reference_mvp_candidates)))"
   ]
  },
  {
   "cell_type": "markdown",
   "metadata": {},
   "source": [
    "After running tests with 6 different models (namely, Linear Regression, Lasso Regression, Ridge Regression, Linear SVR, KNN Regression, and Gradient Boosting Regression), we have 6 different sets of MVP predictions for 2019. A common theme we see is that James Harden appears at the top of the list 5/6 times. We can also compare the different models' accuracy versus the BasketballReference Top Candidates for MVP, since results for voting for the 2018-2019 MVP will be out June 24th. Based on this modeling process, I predict James Harden will be the 2018-2019 NBA Most Valuable Player as he `appeared 6/6 times at the top spot amongst our different models' predictions!"
   ]
  },
  {
   "cell_type": "markdown",
   "metadata": {},
   "source": [
    "# Checking all Models' Accuracy Against the Last 5 MVP Results"
   ]
  },
  {
   "cell_type": "code",
   "execution_count": 177,
   "metadata": {},
   "outputs": [],
   "source": [
    "models = [lin_reg, lasso, ridge, linear_svr, dec_tree, grad_boost]\n",
    "model_names = ['lin_reg', 'lasso', 'ridge', 'linear_svr', 'dec_tree', 'grad_boost']\n",
    "ac = [[], [], [], [], [], []]\n",
    "accuracies = {k: v for k, v in (zip(models, ac))}\n",
    "max_year = 18\n",
    "for i in range(5):\n",
    "    for model in models:\n",
    "        results = []\n",
    "        list_of_years = list(np.arange(1, max_year))\n",
    "        x_train_i, y_train_i = create_train_set(list_of_years)\n",
    "        x_test_i = create_test_set(max_year)\n",
    "        x_train_i = x_train_i.astype(float)\n",
    "        y_train_i = y_train_i.astype(float)\n",
    "        x_test_i = x_test_i.astype(float)\n",
    "        where_are_NaNs_train = np.isnan(x_train_i)\n",
    "        where_are_NaNs_test = np.isnan(x_test_i)\n",
    "        x_train_i[where_are_NaNs_train] = 0\n",
    "        x_test_i[where_are_NaNs_test] = 0\n",
    "        model.fit(x_train_i, y_train_i)\n",
    "        predictions = model.predict(x_test_i)\n",
    "        top_10 = list(np.argsort(predictions)[-10:])\n",
    "        top_10.reverse()\n",
    "        #print(\"MVP PREDICTIONS FOR YEAR: \" + str(max_year) + \"\\n\")  \n",
    "        for id in top_10:\n",
    "            p_id = x_test_i[id][0]\n",
    "            yr = player_data[player_data.index == max_year]\n",
    "            #print(\"Player: \" + str(yr[yr['id'] == p_id]['Player'][max_year]) + \", MVP Score: \" + str(predictions[id]))\n",
    "            results += [yr[yr['id'] == p_id]['Player'][max_year]]\n",
    "        real = calculate_top_10_year(max_year)\n",
    "        accuracies[model].append([determine_accuracy(max_year, results, real)])\n",
    "    #print(\"Accuracy for \" + str(model_names[i]) + \": \" + str(accuracies[i]/len(accuracies)))\n",
    "    max_year -= 1"
   ]
  },
  {
   "cell_type": "code",
   "execution_count": 178,
   "metadata": {},
   "outputs": [
    {
     "name": "stdout",
     "output_type": "stream",
     "text": [
      "Accuracy for lin_reg model: 0.8200000000000001\n",
      "Accuracy for lasso model: 0.8200000000000001\n",
      "Accuracy for ridge model: 0.78\n",
      "Accuracy for linear_svr model: 0.74\n",
      "Accuracy for dec_tree model: 0.72\n",
      "Accuracy for grad_boost model: 0.6799999999999999\n"
     ]
    }
   ],
   "source": [
    "count = 0\n",
    "for k, v in accuracies.items():\n",
    "    accuracy = sum([item for sublist in v for item in sublist])/len(v)\n",
    "    print(\"Accuracy for \" + str(model_names[count]) + \" model: \" + str(accuracy))\n",
    "    count+=1"
   ]
  },
  {
   "cell_type": "markdown",
   "metadata": {},
   "source": [
    "Our models do a pretty good job over the last 5 years!\n",
    "<br> Linear Regression: **82%**\n",
    "<br> Lasso Regression: **82%**\n",
    "<br> Ridge Regression: **78%**\n",
    "<br> Linear SVR Regression: **74%**\n",
    "<br> Decision Tree Regression: **72%**\n",
    "<br> Gradient Boosting Regression: **67.9%**"
   ]
  },
  {
   "cell_type": "markdown",
   "metadata": {},
   "source": [
    "# Finalizing Predictions"
   ]
  },
  {
   "cell_type": "markdown",
   "metadata": {},
   "source": [
    "After averaging out the results of all of our top 10 predictions for 2019, we can settle down and finalize a top list. "
   ]
  },
  {
   "cell_type": "code",
   "execution_count": 180,
   "metadata": {
    "scrolled": true
   },
   "outputs": [
    {
     "data": {
      "text/plain": [
       "[('James Harden', 1.1666666666666667),\n",
       " ('Giannis Antetokounmpo', 2.0),\n",
       " ('Nikola Jokic', 4.25),\n",
       " ('Damian Lillard', 5.333333333333333),\n",
       " ('Paul George', 5.4000000000000004),\n",
       " ('LeBron James', 6.0),\n",
       " ('Stephen Curry', 6.0),\n",
       " ('Kawhi Leonard', 6.0),\n",
       " ('Karl-Anthony Towns', 7.25),\n",
       " ('Russell Westbrook', 7.333333333333333),\n",
       " ('Kevin Durant', 7.5),\n",
       " ('Anthony Davis', 8.0),\n",
       " ('Bradley Beal', 8.0),\n",
       " ('Joel Embiid', 8.0),\n",
       " ('Rudy Gobert', 8.0),\n",
       " ('Kyrie Irving', 10.0)]"
      ]
     },
     "execution_count": 180,
     "metadata": {},
     "output_type": "execute_result"
    }
   ],
   "source": [
    "top_players = {}\n",
    "model_results = [top_10_lin_reg_19, top_10_lasso_19, top_10_ridge_19, top_10_linear_svr_19, \n",
    "                 top_10_dec_tree_19, top_10_grad_boost_19]\n",
    "for results in model_results:\n",
    "    for i in range(len(results)):\n",
    "        if results[i] in top_players:\n",
    "            top_players[results[i]].append(i+1)\n",
    "        else:\n",
    "            top_players[results[i]] = [i+1]\n",
    "top_players = {k: np.mean(v) for k, v in top_players.items()}\n",
    "top_players = sorted(top_players.items(), key=operator.itemgetter(1))\n",
    "top_players"
   ]
  },
  {
   "cell_type": "code",
   "execution_count": null,
   "metadata": {},
   "outputs": [],
   "source": []
  }
 ],
 "metadata": {
  "kernelspec": {
   "display_name": "Python 3",
   "language": "python",
   "name": "python3"
  },
  "language_info": {
   "codemirror_mode": {
    "name": "ipython",
    "version": 3
   },
   "file_extension": ".py",
   "mimetype": "text/x-python",
   "name": "python",
   "nbconvert_exporter": "python",
   "pygments_lexer": "ipython3",
   "version": "3.6.1"
  }
 },
 "nbformat": 4,
 "nbformat_minor": 2
}
